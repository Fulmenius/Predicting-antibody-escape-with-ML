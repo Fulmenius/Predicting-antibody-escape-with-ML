{
  "nbformat": 4,
  "nbformat_minor": 0,
  "metadata": {
    "colab": {
      "provenance": [],
      "authorship_tag": "ABX9TyNAlcCNoJ3Q6opZDjd2HS1t",
      "include_colab_link": true
    },
    "kernelspec": {
      "name": "python3",
      "display_name": "Python 3"
    },
    "language_info": {
      "name": "python"
    },
    "accelerator": "GPU",
    "gpuClass": "standard"
  },
  "cells": [
    {
      "cell_type": "markdown",
      "metadata": {
        "id": "view-in-github",
        "colab_type": "text"
      },
      "source": [
        "<a href=\"https://colab.research.google.com/github/Fulmenius/Predicting-antibody-escape-with-ML/blob/XGBoost/EDA_and_XGBoost_of_ACE2.ipynb\" target=\"_parent\"><img src=\"https://colab.research.google.com/assets/colab-badge.svg\" alt=\"Open In Colab\"/></a>"
      ]
    },
    {
      "cell_type": "code",
      "execution_count": 51,
      "metadata": {
        "id": "xl8-gqq14iwI"
      },
      "outputs": [],
      "source": [
        "import numpy as np\n",
        "import pandas as pd\n",
        "import xgboost\n",
        "from matplotlib import pyplot as plt\n",
        "from matplotlib import style\n",
        "import seaborn as sns\n",
        "sns.set_style(\"whitegrid\")\n"
      ]
    },
    {
      "cell_type": "code",
      "source": [
        "ACE2_train = pd.read_csv(\"ACE2_train_data.csv\")\n",
        "ACE2_test = pd.read_csv(\"ACE2_test_data.csv\")"
      ],
      "metadata": {
        "id": "I6iNR2OqTCaD"
      },
      "execution_count": 52,
      "outputs": []
    },
    {
      "cell_type": "markdown",
      "source": [
        "Fist we analyze the data a bit"
      ],
      "metadata": {
        "id": "tdczXhObSPFy"
      }
    },
    {
      "cell_type": "code",
      "source": [
        "ACE2_train.head()"
      ],
      "metadata": {
        "colab": {
          "base_uri": "https://localhost:8080/",
          "height": 206
        },
        "id": "_Kg18o_m6EoR",
        "outputId": "318cd3ae-bc2f-4de0-85f5-4ba43770f1c5"
      },
      "execution_count": 53,
      "outputs": [
        {
          "output_type": "execute_result",
          "data": {
            "text/plain": [
              "   Unnamed: 0               junction_aa  consensus_count  Label  Distance\n",
              "0      287261  KNAGFNCYNPLETYGFWRTGGVDW                1      1         9\n",
              "1      467439  KNEQFNCYGPINAYGFQRTGGEDW                1      0        10\n",
              "2      414422  KNQKFNCYVPLFHYGFWPTVGVGF                1      1         8\n",
              "3      103144  KNQGFNCYNPLVNYGFYRTNGRSF                1      1         9\n",
              "4      478954  KNRGFNCYKPLPGYGFQRTDGINW                2      0         9"
            ],
            "text/html": [
              "\n",
              "  <div id=\"df-e2badd0b-4f1d-4caf-bae1-59adcbcd5fbf\">\n",
              "    <div class=\"colab-df-container\">\n",
              "      <div>\n",
              "<style scoped>\n",
              "    .dataframe tbody tr th:only-of-type {\n",
              "        vertical-align: middle;\n",
              "    }\n",
              "\n",
              "    .dataframe tbody tr th {\n",
              "        vertical-align: top;\n",
              "    }\n",
              "\n",
              "    .dataframe thead th {\n",
              "        text-align: right;\n",
              "    }\n",
              "</style>\n",
              "<table border=\"1\" class=\"dataframe\">\n",
              "  <thead>\n",
              "    <tr style=\"text-align: right;\">\n",
              "      <th></th>\n",
              "      <th>Unnamed: 0</th>\n",
              "      <th>junction_aa</th>\n",
              "      <th>consensus_count</th>\n",
              "      <th>Label</th>\n",
              "      <th>Distance</th>\n",
              "    </tr>\n",
              "  </thead>\n",
              "  <tbody>\n",
              "    <tr>\n",
              "      <th>0</th>\n",
              "      <td>287261</td>\n",
              "      <td>KNAGFNCYNPLETYGFWRTGGVDW</td>\n",
              "      <td>1</td>\n",
              "      <td>1</td>\n",
              "      <td>9</td>\n",
              "    </tr>\n",
              "    <tr>\n",
              "      <th>1</th>\n",
              "      <td>467439</td>\n",
              "      <td>KNEQFNCYGPINAYGFQRTGGEDW</td>\n",
              "      <td>1</td>\n",
              "      <td>0</td>\n",
              "      <td>10</td>\n",
              "    </tr>\n",
              "    <tr>\n",
              "      <th>2</th>\n",
              "      <td>414422</td>\n",
              "      <td>KNQKFNCYVPLFHYGFWPTVGVGF</td>\n",
              "      <td>1</td>\n",
              "      <td>1</td>\n",
              "      <td>8</td>\n",
              "    </tr>\n",
              "    <tr>\n",
              "      <th>3</th>\n",
              "      <td>103144</td>\n",
              "      <td>KNQGFNCYNPLVNYGFYRTNGRSF</td>\n",
              "      <td>1</td>\n",
              "      <td>1</td>\n",
              "      <td>9</td>\n",
              "    </tr>\n",
              "    <tr>\n",
              "      <th>4</th>\n",
              "      <td>478954</td>\n",
              "      <td>KNRGFNCYKPLPGYGFQRTDGINW</td>\n",
              "      <td>2</td>\n",
              "      <td>0</td>\n",
              "      <td>9</td>\n",
              "    </tr>\n",
              "  </tbody>\n",
              "</table>\n",
              "</div>\n",
              "      <button class=\"colab-df-convert\" onclick=\"convertToInteractive('df-e2badd0b-4f1d-4caf-bae1-59adcbcd5fbf')\"\n",
              "              title=\"Convert this dataframe to an interactive table.\"\n",
              "              style=\"display:none;\">\n",
              "        \n",
              "  <svg xmlns=\"http://www.w3.org/2000/svg\" height=\"24px\"viewBox=\"0 0 24 24\"\n",
              "       width=\"24px\">\n",
              "    <path d=\"M0 0h24v24H0V0z\" fill=\"none\"/>\n",
              "    <path d=\"M18.56 5.44l.94 2.06.94-2.06 2.06-.94-2.06-.94-.94-2.06-.94 2.06-2.06.94zm-11 1L8.5 8.5l.94-2.06 2.06-.94-2.06-.94L8.5 2.5l-.94 2.06-2.06.94zm10 10l.94 2.06.94-2.06 2.06-.94-2.06-.94-.94-2.06-.94 2.06-2.06.94z\"/><path d=\"M17.41 7.96l-1.37-1.37c-.4-.4-.92-.59-1.43-.59-.52 0-1.04.2-1.43.59L10.3 9.45l-7.72 7.72c-.78.78-.78 2.05 0 2.83L4 21.41c.39.39.9.59 1.41.59.51 0 1.02-.2 1.41-.59l7.78-7.78 2.81-2.81c.8-.78.8-2.07 0-2.86zM5.41 20L4 18.59l7.72-7.72 1.47 1.35L5.41 20z\"/>\n",
              "  </svg>\n",
              "      </button>\n",
              "      \n",
              "  <style>\n",
              "    .colab-df-container {\n",
              "      display:flex;\n",
              "      flex-wrap:wrap;\n",
              "      gap: 12px;\n",
              "    }\n",
              "\n",
              "    .colab-df-convert {\n",
              "      background-color: #E8F0FE;\n",
              "      border: none;\n",
              "      border-radius: 50%;\n",
              "      cursor: pointer;\n",
              "      display: none;\n",
              "      fill: #1967D2;\n",
              "      height: 32px;\n",
              "      padding: 0 0 0 0;\n",
              "      width: 32px;\n",
              "    }\n",
              "\n",
              "    .colab-df-convert:hover {\n",
              "      background-color: #E2EBFA;\n",
              "      box-shadow: 0px 1px 2px rgba(60, 64, 67, 0.3), 0px 1px 3px 1px rgba(60, 64, 67, 0.15);\n",
              "      fill: #174EA6;\n",
              "    }\n",
              "\n",
              "    [theme=dark] .colab-df-convert {\n",
              "      background-color: #3B4455;\n",
              "      fill: #D2E3FC;\n",
              "    }\n",
              "\n",
              "    [theme=dark] .colab-df-convert:hover {\n",
              "      background-color: #434B5C;\n",
              "      box-shadow: 0px 1px 3px 1px rgba(0, 0, 0, 0.15);\n",
              "      filter: drop-shadow(0px 1px 2px rgba(0, 0, 0, 0.3));\n",
              "      fill: #FFFFFF;\n",
              "    }\n",
              "  </style>\n",
              "\n",
              "      <script>\n",
              "        const buttonEl =\n",
              "          document.querySelector('#df-e2badd0b-4f1d-4caf-bae1-59adcbcd5fbf button.colab-df-convert');\n",
              "        buttonEl.style.display =\n",
              "          google.colab.kernel.accessAllowed ? 'block' : 'none';\n",
              "\n",
              "        async function convertToInteractive(key) {\n",
              "          const element = document.querySelector('#df-e2badd0b-4f1d-4caf-bae1-59adcbcd5fbf');\n",
              "          const dataTable =\n",
              "            await google.colab.kernel.invokeFunction('convertToInteractive',\n",
              "                                                     [key], {});\n",
              "          if (!dataTable) return;\n",
              "\n",
              "          const docLinkHtml = 'Like what you see? Visit the ' +\n",
              "            '<a target=\"_blank\" href=https://colab.research.google.com/notebooks/data_table.ipynb>data table notebook</a>'\n",
              "            + ' to learn more about interactive tables.';\n",
              "          element.innerHTML = '';\n",
              "          dataTable['output_type'] = 'display_data';\n",
              "          await google.colab.output.renderOutput(dataTable, element);\n",
              "          const docLink = document.createElement('div');\n",
              "          docLink.innerHTML = docLinkHtml;\n",
              "          element.appendChild(docLink);\n",
              "        }\n",
              "      </script>\n",
              "    </div>\n",
              "  </div>\n",
              "  "
            ]
          },
          "metadata": {},
          "execution_count": 53
        }
      ]
    },
    {
      "cell_type": "code",
      "source": [
        "ACE2_train.info()"
      ],
      "metadata": {
        "colab": {
          "base_uri": "https://localhost:8080/"
        },
        "id": "kPi71AOq6LdA",
        "outputId": "87017663-d53f-40ea-cfdb-a4224ee8fb92"
      },
      "execution_count": 54,
      "outputs": [
        {
          "output_type": "stream",
          "name": "stdout",
          "text": [
            "<class 'pandas.core.frame.DataFrame'>\n",
            "RangeIndex: 406886 entries, 0 to 406885\n",
            "Data columns (total 5 columns):\n",
            " #   Column           Non-Null Count   Dtype \n",
            "---  ------           --------------   ----- \n",
            " 0   Unnamed: 0       406886 non-null  int64 \n",
            " 1   junction_aa      406886 non-null  object\n",
            " 2   consensus_count  406886 non-null  int64 \n",
            " 3   Label            406886 non-null  int64 \n",
            " 4   Distance         406886 non-null  int64 \n",
            "dtypes: int64(4), object(1)\n",
            "memory usage: 15.5+ MB\n"
          ]
        }
      ]
    },
    {
      "cell_type": "code",
      "source": [
        "ACE2_train.describe()"
      ],
      "metadata": {
        "colab": {
          "base_uri": "https://localhost:8080/",
          "height": 300
        },
        "id": "ibbgZMol6OO9",
        "outputId": "8da7dcf4-8ad9-4f0a-fd6c-eadfcaecc112"
      },
      "execution_count": 55,
      "outputs": [
        {
          "output_type": "execute_result",
          "data": {
            "text/plain": [
              "          Unnamed: 0  consensus_count          Label       Distance\n",
              "count  406886.000000    406886.000000  406886.000000  406886.000000\n",
              "mean   323195.466440         1.443908       0.500027       9.017398\n",
              "std    189813.180032         1.423285       0.500001       1.167593\n",
              "min         0.000000         1.000000       0.000000       1.000000\n",
              "25%    154232.250000         1.000000       0.000000       8.000000\n",
              "50%    325632.500000         1.000000       1.000000       9.000000\n",
              "75%    483459.500000         2.000000       1.000000      10.000000\n",
              "max    663081.000000       310.000000       1.000000      12.000000"
            ],
            "text/html": [
              "\n",
              "  <div id=\"df-ad4ffe4f-15df-4404-9e1b-c58a867ac0fa\">\n",
              "    <div class=\"colab-df-container\">\n",
              "      <div>\n",
              "<style scoped>\n",
              "    .dataframe tbody tr th:only-of-type {\n",
              "        vertical-align: middle;\n",
              "    }\n",
              "\n",
              "    .dataframe tbody tr th {\n",
              "        vertical-align: top;\n",
              "    }\n",
              "\n",
              "    .dataframe thead th {\n",
              "        text-align: right;\n",
              "    }\n",
              "</style>\n",
              "<table border=\"1\" class=\"dataframe\">\n",
              "  <thead>\n",
              "    <tr style=\"text-align: right;\">\n",
              "      <th></th>\n",
              "      <th>Unnamed: 0</th>\n",
              "      <th>consensus_count</th>\n",
              "      <th>Label</th>\n",
              "      <th>Distance</th>\n",
              "    </tr>\n",
              "  </thead>\n",
              "  <tbody>\n",
              "    <tr>\n",
              "      <th>count</th>\n",
              "      <td>406886.000000</td>\n",
              "      <td>406886.000000</td>\n",
              "      <td>406886.000000</td>\n",
              "      <td>406886.000000</td>\n",
              "    </tr>\n",
              "    <tr>\n",
              "      <th>mean</th>\n",
              "      <td>323195.466440</td>\n",
              "      <td>1.443908</td>\n",
              "      <td>0.500027</td>\n",
              "      <td>9.017398</td>\n",
              "    </tr>\n",
              "    <tr>\n",
              "      <th>std</th>\n",
              "      <td>189813.180032</td>\n",
              "      <td>1.423285</td>\n",
              "      <td>0.500001</td>\n",
              "      <td>1.167593</td>\n",
              "    </tr>\n",
              "    <tr>\n",
              "      <th>min</th>\n",
              "      <td>0.000000</td>\n",
              "      <td>1.000000</td>\n",
              "      <td>0.000000</td>\n",
              "      <td>1.000000</td>\n",
              "    </tr>\n",
              "    <tr>\n",
              "      <th>25%</th>\n",
              "      <td>154232.250000</td>\n",
              "      <td>1.000000</td>\n",
              "      <td>0.000000</td>\n",
              "      <td>8.000000</td>\n",
              "    </tr>\n",
              "    <tr>\n",
              "      <th>50%</th>\n",
              "      <td>325632.500000</td>\n",
              "      <td>1.000000</td>\n",
              "      <td>1.000000</td>\n",
              "      <td>9.000000</td>\n",
              "    </tr>\n",
              "    <tr>\n",
              "      <th>75%</th>\n",
              "      <td>483459.500000</td>\n",
              "      <td>2.000000</td>\n",
              "      <td>1.000000</td>\n",
              "      <td>10.000000</td>\n",
              "    </tr>\n",
              "    <tr>\n",
              "      <th>max</th>\n",
              "      <td>663081.000000</td>\n",
              "      <td>310.000000</td>\n",
              "      <td>1.000000</td>\n",
              "      <td>12.000000</td>\n",
              "    </tr>\n",
              "  </tbody>\n",
              "</table>\n",
              "</div>\n",
              "      <button class=\"colab-df-convert\" onclick=\"convertToInteractive('df-ad4ffe4f-15df-4404-9e1b-c58a867ac0fa')\"\n",
              "              title=\"Convert this dataframe to an interactive table.\"\n",
              "              style=\"display:none;\">\n",
              "        \n",
              "  <svg xmlns=\"http://www.w3.org/2000/svg\" height=\"24px\"viewBox=\"0 0 24 24\"\n",
              "       width=\"24px\">\n",
              "    <path d=\"M0 0h24v24H0V0z\" fill=\"none\"/>\n",
              "    <path d=\"M18.56 5.44l.94 2.06.94-2.06 2.06-.94-2.06-.94-.94-2.06-.94 2.06-2.06.94zm-11 1L8.5 8.5l.94-2.06 2.06-.94-2.06-.94L8.5 2.5l-.94 2.06-2.06.94zm10 10l.94 2.06.94-2.06 2.06-.94-2.06-.94-.94-2.06-.94 2.06-2.06.94z\"/><path d=\"M17.41 7.96l-1.37-1.37c-.4-.4-.92-.59-1.43-.59-.52 0-1.04.2-1.43.59L10.3 9.45l-7.72 7.72c-.78.78-.78 2.05 0 2.83L4 21.41c.39.39.9.59 1.41.59.51 0 1.02-.2 1.41-.59l7.78-7.78 2.81-2.81c.8-.78.8-2.07 0-2.86zM5.41 20L4 18.59l7.72-7.72 1.47 1.35L5.41 20z\"/>\n",
              "  </svg>\n",
              "      </button>\n",
              "      \n",
              "  <style>\n",
              "    .colab-df-container {\n",
              "      display:flex;\n",
              "      flex-wrap:wrap;\n",
              "      gap: 12px;\n",
              "    }\n",
              "\n",
              "    .colab-df-convert {\n",
              "      background-color: #E8F0FE;\n",
              "      border: none;\n",
              "      border-radius: 50%;\n",
              "      cursor: pointer;\n",
              "      display: none;\n",
              "      fill: #1967D2;\n",
              "      height: 32px;\n",
              "      padding: 0 0 0 0;\n",
              "      width: 32px;\n",
              "    }\n",
              "\n",
              "    .colab-df-convert:hover {\n",
              "      background-color: #E2EBFA;\n",
              "      box-shadow: 0px 1px 2px rgba(60, 64, 67, 0.3), 0px 1px 3px 1px rgba(60, 64, 67, 0.15);\n",
              "      fill: #174EA6;\n",
              "    }\n",
              "\n",
              "    [theme=dark] .colab-df-convert {\n",
              "      background-color: #3B4455;\n",
              "      fill: #D2E3FC;\n",
              "    }\n",
              "\n",
              "    [theme=dark] .colab-df-convert:hover {\n",
              "      background-color: #434B5C;\n",
              "      box-shadow: 0px 1px 3px 1px rgba(0, 0, 0, 0.15);\n",
              "      filter: drop-shadow(0px 1px 2px rgba(0, 0, 0, 0.3));\n",
              "      fill: #FFFFFF;\n",
              "    }\n",
              "  </style>\n",
              "\n",
              "      <script>\n",
              "        const buttonEl =\n",
              "          document.querySelector('#df-ad4ffe4f-15df-4404-9e1b-c58a867ac0fa button.colab-df-convert');\n",
              "        buttonEl.style.display =\n",
              "          google.colab.kernel.accessAllowed ? 'block' : 'none';\n",
              "\n",
              "        async function convertToInteractive(key) {\n",
              "          const element = document.querySelector('#df-ad4ffe4f-15df-4404-9e1b-c58a867ac0fa');\n",
              "          const dataTable =\n",
              "            await google.colab.kernel.invokeFunction('convertToInteractive',\n",
              "                                                     [key], {});\n",
              "          if (!dataTable) return;\n",
              "\n",
              "          const docLinkHtml = 'Like what you see? Visit the ' +\n",
              "            '<a target=\"_blank\" href=https://colab.research.google.com/notebooks/data_table.ipynb>data table notebook</a>'\n",
              "            + ' to learn more about interactive tables.';\n",
              "          element.innerHTML = '';\n",
              "          dataTable['output_type'] = 'display_data';\n",
              "          await google.colab.output.renderOutput(dataTable, element);\n",
              "          const docLink = document.createElement('div');\n",
              "          docLink.innerHTML = docLinkHtml;\n",
              "          element.appendChild(docLink);\n",
              "        }\n",
              "      </script>\n",
              "    </div>\n",
              "  </div>\n",
              "  "
            ]
          },
          "metadata": {},
          "execution_count": 55
        }
      ]
    },
    {
      "cell_type": "code",
      "source": [
        "ACE2_train['Distance'].value_counts().sort_values()"
      ],
      "metadata": {
        "colab": {
          "base_uri": "https://localhost:8080/"
        },
        "id": "jax2RacS8FzY",
        "outputId": "a0d38493-bd58-4a3d-ee84-b301e48519db"
      },
      "execution_count": 56,
      "outputs": [
        {
          "output_type": "execute_result",
          "data": {
            "text/plain": [
              "1          4\n",
              "4         48\n",
              "5        553\n",
              "2        705\n",
              "3       1123\n",
              "12      2737\n",
              "6       4691\n",
              "7      25045\n",
              "11     30307\n",
              "8      82354\n",
              "10     98928\n",
              "9     160391\n",
              "Name: Distance, dtype: int64"
            ]
          },
          "metadata": {},
          "execution_count": 56
        }
      ]
    },
    {
      "cell_type": "code",
      "source": [
        "ACE2_train['consensus_count'].value_counts()"
      ],
      "metadata": {
        "colab": {
          "base_uri": "https://localhost:8080/"
        },
        "id": "L71SqGCf8len",
        "outputId": "a68f1e4c-b021-4599-c7e7-68dc2a240a7b"
      },
      "execution_count": 57,
      "outputs": [
        {
          "output_type": "execute_result",
          "data": {
            "text/plain": [
              "1      301497\n",
              "2       66913\n",
              "3       23601\n",
              "4        8100\n",
              "5        3607\n",
              "        ...  \n",
              "50          1\n",
              "57          1\n",
              "99          1\n",
              "122         1\n",
              "102         1\n",
              "Name: consensus_count, Length: 72, dtype: int64"
            ]
          },
          "metadata": {},
          "execution_count": 57
        }
      ]
    },
    {
      "cell_type": "code",
      "source": [
        "fig, axes = plt.subplots(nrows=1, ncols=2, figsize=(16, 4))\n",
        "ax = sns.distplot(ACE2_train.consensus_count, bins = 30, ax=axes[0], kde=False, hist_kws={'log':True})\n",
        "ax.set_title(\"Consensus count\")\n",
        "ax = sns.distplot(ACE2_train.Distance, bins = 30, ax=axes[1], kde=False)\n",
        "ax.set_title(\"Distance\")"
      ],
      "metadata": {
        "colab": {
          "base_uri": "https://localhost:8080/",
          "height": 781
        },
        "id": "7SwnTcUr8sd8",
        "outputId": "10477237-d989-49c4-fdb8-2fe7f1cdc8ed"
      },
      "execution_count": 58,
      "outputs": [
        {
          "output_type": "stream",
          "name": "stderr",
          "text": [
            "<ipython-input-58-6ba3987c3563>:2: UserWarning: \n",
            "\n",
            "`distplot` is a deprecated function and will be removed in seaborn v0.14.0.\n",
            "\n",
            "Please adapt your code to use either `displot` (a figure-level function with\n",
            "similar flexibility) or `histplot` (an axes-level function for histograms).\n",
            "\n",
            "For a guide to updating your code to use the new functions, please see\n",
            "https://gist.github.com/mwaskom/de44147ed2974457ad6372750bbe5751\n",
            "\n",
            "  ax = sns.distplot(ACE2_train.consensus_count, bins = 30, ax=axes[0], kde=False, hist_kws={'log':True})\n",
            "/usr/local/lib/python3.9/dist-packages/seaborn/distributions.py:2502: UserWarning: Data has no positive values, and therefore cannot be log-scaled.\n",
            "  ax.hist(a, bins, orientation=orientation,\n",
            "<ipython-input-58-6ba3987c3563>:4: UserWarning: \n",
            "\n",
            "`distplot` is a deprecated function and will be removed in seaborn v0.14.0.\n",
            "\n",
            "Please adapt your code to use either `displot` (a figure-level function with\n",
            "similar flexibility) or `histplot` (an axes-level function for histograms).\n",
            "\n",
            "For a guide to updating your code to use the new functions, please see\n",
            "https://gist.github.com/mwaskom/de44147ed2974457ad6372750bbe5751\n",
            "\n",
            "  ax = sns.distplot(ACE2_train.Distance, bins = 30, ax=axes[1], kde=False)\n"
          ]
        },
        {
          "output_type": "execute_result",
          "data": {
            "text/plain": [
              "Text(0.5, 1.0, 'Distance')"
            ]
          },
          "metadata": {},
          "execution_count": 58
        },
        {
          "output_type": "display_data",
          "data": {
            "text/plain": [
              "<Figure size 1600x400 with 2 Axes>"
            ],
            "image/png": "[encoded data removed]"
          },
          "metadata": {}
        }
      ]
    },
    {
      "cell_type": "code",
      "source": [
        "fig = plt.plot(figsize=(4, 4))\n",
        "\n",
        "ax = sns.heatmap(ACE2_train[['consensus_count', 'Distance', 'Label']].corr(), cmap='coolwarm')\n",
        "ax.set_title('Correlation between consensus count and distance')\n"
      ],
      "metadata": {
        "colab": {
          "base_uri": "https://localhost:8080/",
          "height": 469
        },
        "id": "KHGdw3td9lLQ",
        "outputId": "d46b5c9e-07c8-4e12-aca3-f5b5acdef089"
      },
      "execution_count": 59,
      "outputs": [
        {
          "output_type": "execute_result",
          "data": {
            "text/plain": [
              "Text(0.5, 1.0, 'Correlation between consensus count and distance')"
            ]
          },
          "metadata": {},
          "execution_count": 59
        },
        {
          "output_type": "display_data",
          "data": {
            "text/plain": [
              "<Figure size 640x480 with 2 Axes>"
            ],
            "image/png": "[encoded data removed]"
          },
          "metadata": {}
        }
      ]
    },
    {
      "cell_type": "code",
      "source": [
        "sns.lmplot(x='consensus_count', y='Distance', hue='Label', data=ACE2_train, fit_reg=False, palette='coolwarm', aspect=2)\n",
        "plt.title('Something')"
      ],
      "metadata": {
        "colab": {
          "base_uri": "https://localhost:8080/",
          "height": 530
        },
        "id": "YQKOTIA0_FCz",
        "outputId": "b9e15ea4-c38b-48a4-8d7a-9c4aac611e3f"
      },
      "execution_count": 60,
      "outputs": [
        {
          "output_type": "execute_result",
          "data": {
            "text/plain": [
              "Text(0.5, 1.0, 'Something')"
            ]
          },
          "metadata": {},
          "execution_count": 60
        },
        {
          "output_type": "display_data",
          "data": {
            "text/plain": [
              "<Figure size 1058.88x500 with 1 Axes>"
            ],
            "image/png": "[encoded data removed]"
          },
          "metadata": {}
        }
      ]
    },
    {
      "cell_type": "markdown",
      "source": [
        "## One-hot encoding\n",
        "'junction_aa' is a sequence from RBD, of length 24. We represent each letter with a 20-dimensional vector."
      ],
      "metadata": {
        "id": "PHBzaOemSUzR"
      }
    },
    {
      "cell_type": "code",
      "source": [
        "def vocabulary(series):\n",
        "    \"\"\"\n",
        "    This function creates a vocabulary of letters in the dataset \n",
        "    \"\"\"\n",
        "    un_val = series.apply(lambda x: set(list(x))).tolist()\n",
        "    un_val = set().union(*un_val)\n",
        "    return list(un_val)\n",
        "\n",
        "vocab = vocabulary(ACE2_train['junction_aa'])\n",
        "\n",
        "\"\"\"\n",
        "One-hot encoding. No padding is needed, because all strings have a length of 24\n",
        "\"\"\"\n",
        "def one_hot_encode(series, aa_vocab):\n",
        "    length = 24\n",
        "    encoding = lambda x: np.array([[letter == aa_vocab[i] for i in range(len(aa_vocab))] for letter in x])\n",
        "    \n",
        "    return series.apply(encoding)"
      ],
      "metadata": {
        "id": "6Pz7ly0AAC5B"
      },
      "execution_count": 61,
      "outputs": []
    },
    {
      "cell_type": "code",
      "source": [
        "\"\"\"\n",
        "Pre-process test and train data\n",
        "\"\"\"\n",
        "ACE2_train['junction_aa_encoded'] = one_hot_encode(ACE2_train['junction_aa'], list(vocab))\n",
        "ACE2_test['junction_aa_encoded'] = one_hot_encode(ACE2_test['junction_aa'], list(vocab))"
      ],
      "metadata": {
        "id": "Ehi3p1WpTIKj"
      },
      "execution_count": 62,
      "outputs": []
    },
    {
      "cell_type": "code",
      "source": [
        "from xgboost import XGBClassifier"
      ],
      "metadata": {
        "id": "7Wn6EoRPXyRi"
      },
      "execution_count": 66,
      "outputs": []
    },
    {
      "cell_type": "code",
      "source": [
        "import time\n",
        "\n",
        "X_train = np.stack(ACE2_train['junction_aa_encoded'].apply(lambda x: x.flatten()).values)\n",
        "y_train = ACE2_train['Label'].values\n",
        "X_test = np.stack(ACE2_test['junction_aa_encoded'].apply(lambda x: x.flatten()).values)\n",
        "y_test = ACE2_test['Label'].values\n",
        "\n"
      ],
      "metadata": {
        "id": "EK5GHY_HX88c"
      },
      "execution_count": 79,
      "outputs": []
    },
    {
      "cell_type": "code",
      "source": [
        "X_train.shape"
      ],
      "metadata": {
        "colab": {
          "base_uri": "https://localhost:8080/"
        },
        "id": "TSyx_RAmZdjQ",
        "outputId": "68ff186c-7fa4-4e54-f887-4b2730c3e646"
      },
      "execution_count": 78,
      "outputs": [
        {
          "output_type": "execute_result",
          "data": {
            "text/plain": [
              "(406886, 480)"
            ]
          },
          "metadata": {},
          "execution_count": 78
        }
      ]
    },
    {
      "cell_type": "code",
      "source": [
        "\n",
        "xgb = XGBClassifier(n_estimators=100)\n",
        "training_start = time.perf_counter()\n",
        "xgb.fit(X_train, y_train)\n",
        "training_end = time.perf_counter()\n",
        "prediction_start = time.perf_counter()\n",
        "preds = xgb.predict(X_test)\n",
        "prediction_end = time.perf_counter()\n",
        "acc_xgb = (preds == y_test).sum().astype(float) / len(preds)*100\n",
        "xgb_train_time = training_end-training_start\n",
        "xgb_prediction_time = prediction_end-prediction_start\n",
        "print(\"XGBoost's prediction accuracy is: %3.2f\" % (acc_xgb))\n",
        "print(\"Time consumed for training: %4.3f\" % (xgb_train_time))\n",
        "print(\"Time consumed for prediction: %6.5f seconds\" % (xgb_prediction_time))"
      ],
      "metadata": {
        "colab": {
          "base_uri": "https://localhost:8080/"
        },
        "id": "aemDu1JdZb-G",
        "outputId": "5563c2d3-b21d-45bd-c738-2869953a4ec6"
      },
      "execution_count": 80,
      "outputs": [
        {
          "output_type": "stream",
          "name": "stdout",
          "text": [
            "XGBoost's prediction accuracy is: 92.82\n",
            "Time consumed for training: 918.746\n",
            "Time consumed for prediction: 0.31641 seconds\n"
          ]
        }
      ]
    },
    {
      "cell_type": "code",
      "source": [
        "from sklearn.model_selection import cross_val_score\n",
        "\n",
        "xgb_cv = XGBClassifier(n_estimators=100)\n",
        "scores = cross_val_score(xgb_cv, X_train, y_train, cv=10, scoring = \"accuracy\")\n",
        "print(\"Scores:\", scores)\n",
        "print(\"Mean:\", scores.mean())\n",
        "print(\"Standard Deviation:\", scores.std())"
      ],
      "metadata": {
        "id": "gt17w5u5dsgE"
      },
      "execution_count": null,
      "outputs": []
    },
    {
      "cell_type": "code",
      "source": [
        "from sklearn.metrics import confusion_matrix, precision_score, recall_score, f1_score\n",
        "from sklearn.model_selection import cross_val_predict\n",
        "\n",
        "predictions = cross_val_predict(xgb, X_train, y_train, cv=3)\n",
        "\n",
        "print(\"Precision:\", precision_score(X_test, predictions, average='micro'))\n",
        "print(\"Recall:\",recall_score(X_test, predictions, average='micro'))\n",
        "print(\"F1-Score:\", f1_score(X_test, predictions, average='micro'))"
      ],
      "metadata": {
        "id": "zIQnY3Y5e1Qt"
      },
      "execution_count": null,
      "outputs": []
    }
  ]
}