{
  "cells": [
    {
      "cell_type": "markdown",
      "metadata": {
        "id": "view-in-github",
        "colab_type": "text"
      },
      "source": [
        "<a href=\"https://colab.research.google.com/github/Fulmenius/Predicting-antibody-escape-with-ML/blob/main_script/models/ProtT5_embeddings.ipynb\" target=\"_parent\"><img src=\"https://colab.research.google.com/assets/colab-badge.svg\" alt=\"Open In Colab\"/></a>"
      ]
    },
    {
      "cell_type": "code",
      "execution_count": null,
      "metadata": {
        "colab": {
          "base_uri": "https://localhost:8080/"
        },
        "id": "ESQgY85Vqhn9",
        "outputId": "f8d6e4ad-8370-403c-9b72-fe153442c2be"
      },
      "outputs": [
        {
          "output_type": "stream",
          "name": "stdout",
          "text": [
            "Looking in indexes: https://pypi.org/simple, https://us-python.pkg.dev/colab-wheels/public/simple/, https://download.pytorch.org/whl/cu116\n",
            "Requirement already satisfied: torch in /usr/local/lib/python3.10/dist-packages (2.0.1+cu118)\n",
            "Requirement already satisfied: torchvision in /usr/local/lib/python3.10/dist-packages (0.15.2+cu118)\n",
            "Requirement already satisfied: torchaudio in /usr/local/lib/python3.10/dist-packages (2.0.2+cu118)\n",
            "Requirement already satisfied: transformers in /usr/local/lib/python3.10/dist-packages (4.29.2)\n",
            "Requirement already satisfied: sentencepiece in /usr/local/lib/python3.10/dist-packages (0.1.99)\n",
            "Requirement already satisfied: accelerate in /usr/local/lib/python3.10/dist-packages (0.19.0)\n",
            "Requirement already satisfied: filelock in /usr/local/lib/python3.10/dist-packages (from torch) (3.12.0)\n",
            "Requirement already satisfied: typing-extensions in /usr/local/lib/python3.10/dist-packages (from torch) (4.5.0)\n",
            "Requirement already satisfied: sympy in /usr/local/lib/python3.10/dist-packages (from torch) (1.11.1)\n",
            "Requirement already satisfied: networkx in /usr/local/lib/python3.10/dist-packages (from torch) (3.1)\n",
            "Requirement already satisfied: jinja2 in /usr/local/lib/python3.10/dist-packages (from torch) (3.1.2)\n",
            "Requirement already satisfied: triton==2.0.0 in /usr/local/lib/python3.10/dist-packages (from torch) (2.0.0)\n",
            "Requirement already satisfied: cmake in /usr/local/lib/python3.10/dist-packages (from triton==2.0.0->torch) (3.25.2)\n",
            "Requirement already satisfied: lit in /usr/local/lib/python3.10/dist-packages (from triton==2.0.0->torch) (16.0.5)\n",
            "Requirement already satisfied: numpy in /usr/local/lib/python3.10/dist-packages (from torchvision) (1.22.4)\n",
            "Requirement already satisfied: requests in /usr/local/lib/python3.10/dist-packages (from torchvision) (2.27.1)\n",
            "Requirement already satisfied: pillow!=8.3.*,>=5.3.0 in /usr/local/lib/python3.10/dist-packages (from torchvision) (8.4.0)\n",
            "Requirement already satisfied: huggingface-hub<1.0,>=0.14.1 in /usr/local/lib/python3.10/dist-packages (from transformers) (0.14.1)\n",
            "Requirement already satisfied: packaging>=20.0 in /usr/local/lib/python3.10/dist-packages (from transformers) (23.1)\n",
            "Requirement already satisfied: pyyaml>=5.1 in /usr/local/lib/python3.10/dist-packages (from transformers) (6.0)\n",
            "Requirement already satisfied: regex!=2019.12.17 in /usr/local/lib/python3.10/dist-packages (from transformers) (2022.10.31)\n",
            "Requirement already satisfied: tokenizers!=0.11.3,<0.14,>=0.11.1 in /usr/local/lib/python3.10/dist-packages (from transformers) (0.13.3)\n",
            "Requirement already satisfied: tqdm>=4.27 in /usr/local/lib/python3.10/dist-packages (from transformers) (4.65.0)\n",
            "Requirement already satisfied: psutil in /usr/local/lib/python3.10/dist-packages (from accelerate) (5.9.5)\n",
            "Requirement already satisfied: fsspec in /usr/local/lib/python3.10/dist-packages (from huggingface-hub<1.0,>=0.14.1->transformers) (2023.4.0)\n",
            "Requirement already satisfied: MarkupSafe>=2.0 in /usr/local/lib/python3.10/dist-packages (from jinja2->torch) (2.1.2)\n",
            "Requirement already satisfied: urllib3<1.27,>=1.21.1 in /usr/local/lib/python3.10/dist-packages (from requests->torchvision) (1.26.15)\n",
            "Requirement already satisfied: certifi>=2017.4.17 in /usr/local/lib/python3.10/dist-packages (from requests->torchvision) (2022.12.7)\n",
            "Requirement already satisfied: charset-normalizer~=2.0.0 in /usr/local/lib/python3.10/dist-packages (from requests->torchvision) (2.0.12)\n",
            "Requirement already satisfied: idna<4,>=2.5 in /usr/local/lib/python3.10/dist-packages (from requests->torchvision) (3.4)\n",
            "Requirement already satisfied: mpmath>=0.19 in /usr/local/lib/python3.10/dist-packages (from sympy->torch) (1.3.0)\n"
          ]
        }
      ],
      "source": [
        "!pip3 install torch torchvision torchaudio transformers sentencepiece accelerate --extra-index-url https://download.pytorch.org/whl/cu116"
      ]
    },
    {
      "cell_type": "code",
      "execution_count": null,
      "metadata": {
        "id": "m7dFueEnr33_"
      },
      "outputs": [],
      "source": [
        "import pandas as pd\n",
        "\n",
        "ACE2_test = pd.read_csv(\"/content/drive/MyDrive/Colab Notebooks/data/ACE2_test_data.csv\")\n"
      ]
    },
    {
      "cell_type": "code",
      "source": [
        "ACE2_train = pd.read_csv(\"/content/drive/MyDrive/Colab Notebooks/data/ACE2_train_data.csv\")\n",
        "\n",
        "\n",
        "LY16_train = pd.read_csv(\"/content/drive/MyDrive/Colab Notebooks/data/LY16_train_data.csv\")\n",
        "LY555_train = pd.read_csv(\"/content/drive/MyDrive/Colab Notebooks/data/LY555_train_data.csv\")\n",
        "REGN33_train = pd.read_csv(\"/content/drive/MyDrive/Colab Notebooks/data/REGN33_train_data.csv\")\n",
        "REGN87_train = pd.read_csv(\"/content/drive/MyDrive/Colab Notebooks/data/REGN87_train_data.csv\")\n",
        "\n",
        "LY16_test = pd.read_csv(\"/content/drive/MyDrive/Colab Notebooks/data/LY16_test_data.csv\")\n",
        "LY555_test = pd.read_csv(\"/content/drive/MyDrive/Colab Notebooks/data/LY555_test_data.csv\")\n",
        "REGN33_test = pd.read_csv(\"/content/drive/MyDrive/Colab Notebooks/data/REGN33_test_data.csv\")\n",
        "REGN87_test = pd.read_csv(\"/content/drive/MyDrive/Colab Notebooks/data/REGN87_test_data.csv\")"
      ],
      "metadata": {
        "id": "Mxad5ZnK8HVi"
      },
      "execution_count": null,
      "outputs": []
    },
    {
      "cell_type": "code",
      "execution_count": null,
      "metadata": {
        "colab": {
          "base_uri": "https://localhost:8080/",
          "height": 206
        },
        "id": "ZgS0OG4ItRmG",
        "outputId": "a48d720f-b546-4eb0-9e2f-082e43455c16"
      },
      "outputs": [
        {
          "output_type": "execute_result",
          "data": {
            "text/plain": [
              "   Unnamed: 0               junction_aa  consensus_count  Label  Distance\n",
              "0      478748  KNEQFNCYGPLPQYGFQRTYGLGY                1      0         7\n",
              "1      543305  KNEGFNCYMPLNEYGFWRTWGRGY                1      0         7\n",
              "2      128414  KNKGFNCYRPLWEYGFFRTSGVGW                1      1         8\n",
              "3      369022  KNPGFNCYIPIRNYGFFTTVGQGW                2      1        10\n",
              "4      314227  KNKGFNCYPPLQQYGFWTTTGSGW                1      1         8"
            ],
            "text/html": [
              "\n",
              "  <div id=\"df-999ab11c-1d97-4349-8d8d-18e0047a2f82\">\n",
              "    <div class=\"colab-df-container\">\n",
              "      <div>\n",
              "<style scoped>\n",
              "    .dataframe tbody tr th:only-of-type {\n",
              "        vertical-align: middle;\n",
              "    }\n",
              "\n",
              "    .dataframe tbody tr th {\n",
              "        vertical-align: top;\n",
              "    }\n",
              "\n",
              "    .dataframe thead th {\n",
              "        text-align: right;\n",
              "    }\n",
              "</style>\n",
              "<table border=\"1\" class=\"dataframe\">\n",
              "  <thead>\n",
              "    <tr style=\"text-align: right;\">\n",
              "      <th></th>\n",
              "      <th>Unnamed: 0</th>\n",
              "      <th>junction_aa</th>\n",
              "      <th>consensus_count</th>\n",
              "      <th>Label</th>\n",
              "      <th>Distance</th>\n",
              "    </tr>\n",
              "  </thead>\n",
              "  <tbody>\n",
              "    <tr>\n",
              "      <th>0</th>\n",
              "      <td>478748</td>\n",
              "      <td>KNEQFNCYGPLPQYGFQRTYGLGY</td>\n",
              "      <td>1</td>\n",
              "      <td>0</td>\n",
              "      <td>7</td>\n",
              "    </tr>\n",
              "    <tr>\n",
              "      <th>1</th>\n",
              "      <td>543305</td>\n",
              "      <td>KNEGFNCYMPLNEYGFWRTWGRGY</td>\n",
              "      <td>1</td>\n",
              "      <td>0</td>\n",
              "      <td>7</td>\n",
              "    </tr>\n",
              "    <tr>\n",
              "      <th>2</th>\n",
              "      <td>128414</td>\n",
              "      <td>KNKGFNCYRPLWEYGFFRTSGVGW</td>\n",
              "      <td>1</td>\n",
              "      <td>1</td>\n",
              "      <td>8</td>\n",
              "    </tr>\n",
              "    <tr>\n",
              "      <th>3</th>\n",
              "      <td>369022</td>\n",
              "      <td>KNPGFNCYIPIRNYGFFTTVGQGW</td>\n",
              "      <td>2</td>\n",
              "      <td>1</td>\n",
              "      <td>10</td>\n",
              "    </tr>\n",
              "    <tr>\n",
              "      <th>4</th>\n",
              "      <td>314227</td>\n",
              "      <td>KNKGFNCYPPLQQYGFWTTTGSGW</td>\n",
              "      <td>1</td>\n",
              "      <td>1</td>\n",
              "      <td>8</td>\n",
              "    </tr>\n",
              "  </tbody>\n",
              "</table>\n",
              "</div>\n",
              "      <button class=\"colab-df-convert\" onclick=\"convertToInteractive('df-999ab11c-1d97-4349-8d8d-18e0047a2f82')\"\n",
              "              title=\"Convert this dataframe to an interactive table.\"\n",
              "              style=\"display:none;\">\n",
              "        \n",
              "  <svg xmlns=\"http://www.w3.org/2000/svg\" height=\"24px\"viewBox=\"0 0 24 24\"\n",
              "       width=\"24px\">\n",
              "    <path d=\"M0 0h24v24H0V0z\" fill=\"none\"/>\n",
              "    <path d=\"M18.56 5.44l.94 2.06.94-2.06 2.06-.94-2.06-.94-.94-2.06-.94 2.06-2.06.94zm-11 1L8.5 8.5l.94-2.06 2.06-.94-2.06-.94L8.5 2.5l-.94 2.06-2.06.94zm10 10l.94 2.06.94-2.06 2.06-.94-2.06-.94-.94-2.06-.94 2.06-2.06.94z\"/><path d=\"M17.41 7.96l-1.37-1.37c-.4-.4-.92-.59-1.43-.59-.52 0-1.04.2-1.43.59L10.3 9.45l-7.72 7.72c-.78.78-.78 2.05 0 2.83L4 21.41c.39.39.9.59 1.41.59.51 0 1.02-.2 1.41-.59l7.78-7.78 2.81-2.81c.8-.78.8-2.07 0-2.86zM5.41 20L4 18.59l7.72-7.72 1.47 1.35L5.41 20z\"/>\n",
              "  </svg>\n",
              "      </button>\n",
              "      \n",
              "  <style>\n",
              "    .colab-df-container {\n",
              "      display:flex;\n",
              "      flex-wrap:wrap;\n",
              "      gap: 12px;\n",
              "    }\n",
              "\n",
              "    .colab-df-convert {\n",
              "      background-color: #E8F0FE;\n",
              "      border: none;\n",
              "      border-radius: 50%;\n",
              "      cursor: pointer;\n",
              "      display: none;\n",
              "      fill: #1967D2;\n",
              "      height: 32px;\n",
              "      padding: 0 0 0 0;\n",
              "      width: 32px;\n",
              "    }\n",
              "\n",
              "    .colab-df-convert:hover {\n",
              "      background-color: #E2EBFA;\n",
              "      box-shadow: 0px 1px 2px rgba(60, 64, 67, 0.3), 0px 1px 3px 1px rgba(60, 64, 67, 0.15);\n",
              "      fill: #174EA6;\n",
              "    }\n",
              "\n",
              "    [theme=dark] .colab-df-convert {\n",
              "      background-color: #3B4455;\n",
              "      fill: #D2E3FC;\n",
              "    }\n",
              "\n",
              "    [theme=dark] .colab-df-convert:hover {\n",
              "      background-color: #434B5C;\n",
              "      box-shadow: 0px 1px 3px 1px rgba(0, 0, 0, 0.15);\n",
              "      filter: drop-shadow(0px 1px 2px rgba(0, 0, 0, 0.3));\n",
              "      fill: #FFFFFF;\n",
              "    }\n",
              "  </style>\n",
              "\n",
              "      <script>\n",
              "        const buttonEl =\n",
              "          document.querySelector('#df-999ab11c-1d97-4349-8d8d-18e0047a2f82 button.colab-df-convert');\n",
              "        buttonEl.style.display =\n",
              "          google.colab.kernel.accessAllowed ? 'block' : 'none';\n",
              "\n",
              "        async function convertToInteractive(key) {\n",
              "          const element = document.querySelector('#df-999ab11c-1d97-4349-8d8d-18e0047a2f82');\n",
              "          const dataTable =\n",
              "            await google.colab.kernel.invokeFunction('convertToInteractive',\n",
              "                                                     [key], {});\n",
              "          if (!dataTable) return;\n",
              "\n",
              "          const docLinkHtml = 'Like what you see? Visit the ' +\n",
              "            '<a target=\"_blank\" href=https://colab.research.google.com/notebooks/data_table.ipynb>data table notebook</a>'\n",
              "            + ' to learn more about interactive tables.';\n",
              "          element.innerHTML = '';\n",
              "          dataTable['output_type'] = 'display_data';\n",
              "          await google.colab.output.renderOutput(dataTable, element);\n",
              "          const docLink = document.createElement('div');\n",
              "          docLink.innerHTML = docLinkHtml;\n",
              "          element.appendChild(docLink);\n",
              "        }\n",
              "      </script>\n",
              "    </div>\n",
              "  </div>\n",
              "  "
            ]
          },
          "metadata": {},
          "execution_count": 5
        }
      ],
      "source": [
        "ACE2_test.head()"
      ]
    },
    {
      "cell_type": "code",
      "execution_count": null,
      "metadata": {
        "id": "T0LCgB8OqUfW"
      },
      "outputs": [],
      "source": [
        "from transformers import T5Tokenizer, T5EncoderModel\n",
        "import torch\n",
        "import pandas as pd\n",
        "import numpy as np\n",
        "import re\n",
        "\n",
        "device = torch.device('cuda:0' if torch.cuda.is_available() else 'cpu')\n",
        "\n",
        "# Load the tokenizer and model\n",
        "tokenizer = T5Tokenizer.from_pretrained('Rostlab/prot_t5_xl_half_uniref50-enc', do_lower_case=False)\n",
        "model = T5EncoderModel.from_pretrained(\"Rostlab/prot_t5_xl_half_uniref50-enc\").to(device)\n",
        "model = model.half() if device == torch.device('cuda:0') else model\n",
        "\n",
        "def process_chunk(chunk):\n",
        "    sequence_examples = chunk[\"junction_aa\"].tolist()\n",
        "\n",
        "    # replace all rare/ambiguous amino acids by X and introduce white-space between all amino acids\n",
        "    sequence_examples = [\" \".join(list(re.sub(r\"[UZOB]\", \"X\", sequence))) for sequence in sequence_examples]\n",
        "\n",
        "    # tokenize sequences and pad up to the longest sequence in the batch\n",
        "    ids = tokenizer.batch_encode_plus(sequence_examples, add_special_tokens=True, padding=\"longest\")\n",
        "\n",
        "    input_ids = torch.tensor(ids['input_ids']).to(device)\n",
        "    attention_mask = torch.tensor(ids['attention_mask']).to(device)\n",
        "\n",
        "    # generate embeddings\n",
        "    with torch.no_grad():\n",
        "        embedding_rpr = model(input_ids=input_ids,attention_mask=attention_mask)\n",
        "\n",
        "    # compute per-protein embeddings and convert to numpy for use with pandas\n",
        "    embeddings = [emb.mean(dim=0).cpu().numpy() for emb in embedding_rpr.last_hidden_state]\n",
        "\n",
        "    # create new dataframe with embeddings and labels\n",
        "    return pd.DataFrame({\n",
        "        \"embeddings\": embeddings,\n",
        "        \"Labels\": chunk[\"Label\"].tolist()\n",
        "    })\n"
      ]
    },
    {
      "cell_type": "code",
      "source": [
        "from tqdm import tqdm\n",
        "\n",
        "def process_df(df, chunk_size=20):\n",
        "    chunks = [df[i:i+chunk_size] for i in range(0, df.shape[0], chunk_size)]\n",
        "    processed_chunks = []\n",
        "\n",
        "    for chunk in tqdm(chunks, desc=\"Processing chunks\"):\n",
        "        processed_chunks.append(process_chunk(chunk))\n",
        "\n",
        "    return pd.concat(processed_chunks)"
      ],
      "metadata": {
        "id": "FVR3CxFB8i_b"
      },
      "execution_count": null,
      "outputs": []
    },
    {
      "cell_type": "code",
      "execution_count": null,
      "metadata": {
        "colab": {
          "base_uri": "https://localhost:8080/"
        },
        "id": "V1K6awhSrikf",
        "outputId": "86c7e251-c9c7-4584-97d9-31b807a6fe4c"
      },
      "outputs": [
        {
          "output_type": "stream",
          "name": "stderr",
          "text": [
            "Processing chunks: 100%|██████████| 50/50 [00:08<00:00,  6.15it/s]\n"
          ]
        }
      ],
      "source": [
        "ACE2_transformed = process_df(ACE2_test.sample(n=1000), 20)"
      ]
    },
    {
      "cell_type": "code",
      "source": [
        "ACE2_transformed[\"embeddings\"].iloc[0].shape"
      ],
      "metadata": {
        "colab": {
          "base_uri": "https://localhost:8080/"
        },
        "id": "b0NOuR271L4T",
        "outputId": "0d392434-9565-49eb-8317-5089795ba93b"
      },
      "execution_count": null,
      "outputs": [
        {
          "output_type": "execute_result",
          "data": {
            "text/plain": [
              "(1024,)"
            ]
          },
          "metadata": {},
          "execution_count": 8
        }
      ]
    },
    {
      "cell_type": "code",
      "source": [
        "ACE2_transformed.to_csv('/content/drive/MyDrive/Colab Notebooks/data/ACE2_embeddings_1000_test.csv')"
      ],
      "metadata": {
        "id": "Gm7uw_356_8q"
      },
      "execution_count": null,
      "outputs": []
    },
    {
      "cell_type": "code",
      "source": [
        "antibodies_train = [LY16_train, LY555_train, REGN33_train, REGN87_train]\n",
        "antibodies_test = [LY16_test, LY555_test, REGN33_test, REGN87_test]"
      ],
      "metadata": {
        "id": "Ryc6OUZq7VrK"
      },
      "execution_count": null,
      "outputs": []
    },
    {
      "cell_type": "code",
      "source": [
        "antibodies_train_embeddings = []\n",
        "antibodies_test_embeddings = []\n",
        "names = [\"LY16\", \"LY555\", \"REGN33\", \"REGN87\"]\n",
        "\n",
        "for dataset, name in zip(antibodies_train, names):\n",
        "    embedded = process_df(dataset.sample(n=1000), 20)\n",
        "    antibodies_train_embeddings.append(embedded)\n",
        "    # Convert numpy arrays in the 'embeddings' column to lists before saving to CSV\n",
        "    embedded['embeddings'] = embedded['embeddings'].apply(lambda x: x.tolist())\n",
        "    embedded.to_csv('/content/drive/MyDrive/Colab Notebooks/data/' + name + \"_embedding_1000_train.csv\", index=False)\n",
        "\n",
        "\n",
        "for dataset, name in zip(antibodies_test, names):\n",
        "    embedded = process_df(dataset.sample(n=1000), 20)\n",
        "    antibodies_test_embeddings.append(embedded)\n",
        "    # Convert numpy arrays in the 'embeddings' column to lists before saving to CSV\n",
        "    embedded['embeddings'] = embedded['embeddings'].apply(lambda x: x.tolist())\n",
        "    embedded.to_csv('/content/drive/MyDrive/Colab Notebooks/data/' + name + \"_embedding_1000_test.csv\", index=False)"
      ],
      "metadata": {
        "colab": {
          "base_uri": "https://localhost:8080/"
        },
        "id": "SuZX9OwY-p1O",
        "outputId": "25083548-278d-4440-b822-3cea70481d2f"
      },
      "execution_count": null,
      "outputs": [
        {
          "output_type": "stream",
          "name": "stderr",
          "text": [
            "Processing chunks: 100%|██████████| 50/50 [00:03<00:00, 13.69it/s]\n",
            "Processing chunks: 100%|██████████| 50/50 [00:03<00:00, 13.66it/s]\n",
            "Processing chunks: 100%|██████████| 50/50 [00:03<00:00, 14.05it/s]\n",
            "Processing chunks: 100%|██████████| 50/50 [00:03<00:00, 13.03it/s]\n",
            "Processing chunks: 100%|██████████| 50/50 [00:04<00:00, 11.27it/s]\n",
            "Processing chunks: 100%|██████████| 50/50 [00:03<00:00, 13.81it/s]\n",
            "Processing chunks: 100%|██████████| 50/50 [00:03<00:00, 13.66it/s]\n",
            "Processing chunks: 100%|██████████| 50/50 [00:03<00:00, 13.01it/s]\n"
          ]
        }
      ]
    },
    {
      "cell_type": "code",
      "source": [
        "antibodies_train_embeddings = []\n",
        "antibodies_test_embeddings = []\n",
        "names = [\"LY16\", \"LY555\", \"REGN33\", \"REGN87\"]\n",
        "\n",
        "for dataset, name in zip(antibodies_train, names):\n",
        "    embedded = process_df(dataset, 20)\n",
        "    antibodies_train_embeddings.append(embedded)\n",
        "    # Convert numpy arrays in the 'embeddings' column to lists before saving to CSV\n",
        "    embedded['embeddings'] = embedded['embeddings'].apply(lambda x: x.tolist())\n",
        "    embedded.to_csv('/content/drive/MyDrive/Colab Notebooks/data/' + name + \"_embedding_full_train.csv\", index=False)\n",
        "\n",
        "for dataset, name in zip(antibodies_test, names):\n",
        "    embedded = process_df(dataset, 20)\n",
        "    antibodies_test_embeddings.append(embedded)\n",
        "    # Convert numpy arrays in the 'embeddings' column to lists before saving to CSV\n",
        "    embedded['embeddings'] = embedded['embeddings'].apply(lambda x: x.tolist())\n",
        "    embedded.to_csv('/content/drive/MyDrive/Colab Notebooks/data/' + name + \"_embedding_full_test.csv\", index=False)"
      ],
      "metadata": {
        "colab": {
          "base_uri": "https://localhost:8080/"
        },
        "id": "xtzkO5Q0BTlD",
        "outputId": "46c65d28-ed65-4416-b5d9-5a103db1d39c"
      },
      "execution_count": null,
      "outputs": [
        {
          "output_type": "stream",
          "name": "stderr",
          "text": [
            "Processing chunks: 100%|██████████| 1345/1345 [01:44<00:00, 12.92it/s]\n",
            "Processing chunks: 100%|██████████| 755/755 [01:01<00:00, 12.31it/s]\n",
            "Processing chunks: 100%|██████████| 6011/6011 [08:05<00:00, 12.37it/s]\n",
            "Processing chunks: 100%|██████████| 1505/1505 [02:06<00:00, 11.86it/s]\n",
            "Processing chunks: 100%|██████████| 150/150 [00:12<00:00, 11.61it/s]\n",
            "Processing chunks: 100%|██████████| 84/84 [00:06<00:00, 12.53it/s]\n",
            "Processing chunks: 100%|██████████| 668/668 [00:56<00:00, 11.92it/s]\n",
            "Processing chunks: 100%|██████████| 168/168 [00:14<00:00, 11.98it/s]\n"
          ]
        }
      ]
    }
  ],
  "metadata": {
    "colab": {
      "provenance": [],
      "gpuType": "T4",
      "mount_file_id": "1P0neT7bq1fxsDFeKscc1c834zEd3bP29",
      "authorship_tag": "ABX9TyOcVNHwfqJ1z8XxIcqHwCxA",
      "include_colab_link": true
    },
    "kernelspec": {
      "display_name": "Python 3",
      "name": "python3"
    },
    "language_info": {
      "name": "python"
    },
    "accelerator": "GPU",
    "gpuClass": "standard"
  },
  "nbformat": 4,
  "nbformat_minor": 0
}