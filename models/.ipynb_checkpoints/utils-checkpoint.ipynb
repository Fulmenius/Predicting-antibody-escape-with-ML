{
 "cells": [
  {
   "cell_type": "code",
   "execution_count": 5,
   "id": "59d05a63",
   "metadata": {},
   "outputs": [
    {
     "name": "stdout",
     "output_type": "stream",
     "text": [
      "utils are loaded\n"
     ]
    }
   ],
   "source": [
    "print('utils are loaded')"
   ]
  },
  {
   "cell_type": "code",
   "execution_count": 14,
   "id": "2cf93bd2",
   "metadata": {},
   "outputs": [],
   "source": [
    "import pandas as pd\n",
    "\n",
    "def vocabulary(series):\n",
    "    \"\"\"\n",
    "    This function creates a vocabulary of letters in the dataset \n",
    "    \"\"\"\n",
    "    return list(set(series.str.cat()))"
   ]
  },
  {
   "cell_type": "code",
   "execution_count": 15,
   "id": "1bfbf189",
   "metadata": {},
   "outputs": [],
   "source": [
    "def one_hot_encode(series, aa_vocab):\n",
    "    \"\"\"\n",
    "    One-hot encoding. No padding is needed, because all strings have a length of 24\n",
    "    \"\"\"\n",
    "    # Create a mapping of aa to indices\n",
    "    aa_to_idx = {aa: idx for idx, aa in enumerate(aa_vocab)}\n",
    "    vocab_size = len(aa_vocab)\n",
    "\n",
    "    # One-hot encode the sequences\n",
    "    encoded_seqs = []\n",
    "    for seq in series:\n",
    "        encoded_seq = np.zeros((len(seq), vocab_size))\n",
    "        for i, aa in enumerate(seq):\n",
    "            encoded_seq[i, aa_to_idx[aa]] = 1\n",
    "        encoded_seqs.append(encoded_seq)\n",
    "    \n",
    "    return encoded_seqs"
   ]
  },
  {
   "cell_type": "code",
   "execution_count": 20,
   "id": "426749dd",
   "metadata": {},
   "outputs": [],
   "source": [
    "class SequenceDataset(Dataset):\n",
    "    \"\"\"\n",
    "    PyTorch Dataset class for the sequence data\n",
    "    \"\"\"\n",
    "    def __init__(self, sequences, labels):\n",
    "        self.sequences = sequences\n",
    "        self.labels = labels\n",
    "\n",
    "    def __len__(self):\n",
    "        return len(self.labels)\n",
    "\n",
    "    def __getitem__(self, idx):\n",
    "        sequence = self.sequences[idx]\n",
    "        sequence = torch.unsqueeze(sequence, 0)\n",
    "        label = self.labels[idx]\n",
    "        return sequence, label\n",
    "\n",
    "def prepare_data(dataset, sample_size, batch_size=64):\n",
    "    \"\"\"\n",
    "    This function prepares a PyTorch DataLoader from a pandas DataFrame.\n",
    "    \"\"\"\n",
    "    # Randomly sample from the dataset\n",
    "    dataset_sample = dataset.sample(n=sample_size)\n",
    "    \n",
    "    # Extract sequences and labels\n",
    "    sequences = dataset_sample['junction_aa']\n",
    "    labels = dataset_sample['Label']\n",
    "\n",
    "    # Create vocabulary\n",
    "    aa_vocab = vocabulary(sequences)\n",
    "\n",
    "    # One-hot encode the sequences\n",
    "    sequences = one_hot_encode(sequences, aa_vocab)\n",
    "\n",
    "    # Convert to PyTorch tensors\n",
    "    sequences = torch.tensor(sequences).float() # Changed this line\n",
    "    labels = torch.tensor(labels.values).float()\n",
    "\n",
    "    # Create PyTorch Dataset\n",
    "    data = SequenceDataset(sequences, labels)\n",
    "\n",
    "    # Create PyTorch DataLoader\n",
    "    loader = DataLoader(data, batch_size=batch_size, shuffle=True)\n",
    "\n",
    "    return loader"
   ]
  },
  {
   "cell_type": "code",
   "execution_count": 21,
   "id": "9890831c",
   "metadata": {},
   "outputs": [],
   "source": [
    "from sklearn.metrics import roc_auc_score\n",
    "\n",
    "def calculate_roc_auc(model, loader):\n",
    "    model.eval()\n",
    "    y_true = []\n",
    "    y_score = []\n",
    "    with torch.no_grad():\n",
    "        for inputs, labels in loader:\n",
    "            inputs, labels = inputs.to(device), labels.to(device)\n",
    "            outputs = model(inputs)\n",
    "            y_true.extend(labels.tolist())\n",
    "            y_score.extend(outputs.tolist())\n",
    "    return roc_auc_score(y_true, y_score)"
   ]
  }
 ],
 "metadata": {
  "kernelspec": {
   "display_name": "Python 3 (ipykernel)",
   "language": "python",
   "name": "python3"
  },
  "language_info": {
   "codemirror_mode": {
    "name": "ipython",
    "version": 3
   },
   "file_extension": ".py",
   "mimetype": "text/x-python",
   "name": "python",
   "nbconvert_exporter": "python",
   "pygments_lexer": "ipython3",
   "version": "3.9.15"
  }
 },
 "nbformat": 4,
 "nbformat_minor": 5
}
