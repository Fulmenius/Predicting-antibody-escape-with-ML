{
 "cells": [
  {
   "cell_type": "code",
   "execution_count": 2,
   "id": "e4c22853",
   "metadata": {},
   "outputs": [
    {
     "name": "stdout",
     "output_type": "stream",
     "text": [
      "one_hot_CNN is loaded\n"
     ]
    }
   ],
   "source": [
    "print(\"one_hot_CNN is loaded\")"
   ]
  },
  {
   "cell_type": "code",
   "execution_count": 11,
   "id": "133fe710",
   "metadata": {},
   "outputs": [],
   "source": [
    "import torch\n",
    "from torch import nn\n",
    "import torch.nn.functional as F\n",
    "\n",
    "\n",
    "class ConvNet(nn.Module):\n",
    "    def __init__(self):\n",
    "        super().__init__()\n",
    "\n",
    "        self.conv1 = nn.Conv2d(in_channels=1, out_channels=6, kernel_size=(3, 3))  # 22x18\n",
    "        self.bn1 = nn.BatchNorm2d(6)\n",
    "        self.pool1 = nn.MaxPool2d(kernel_size=(2, 2))  # 11x9xx6\n",
    "        self.conv2 = nn.Conv2d(in_channels=6, out_channels=9, kernel_size=(3, 3))  # 9x7xx9\n",
    "        self.bn2 = nn.BatchNorm2d(9)\n",
    "        self.flatten = nn.Flatten()  # 9*7*9\n",
    "\n",
    "        self.fc1 = nn.Linear(9 * 7 * 9, 64)  # HARDCODE!!!! <<<<<\n",
    "        self.bn3 = nn.BatchNorm1d(64)\n",
    "        self.fc2 = nn.Linear(64, 10)\n",
    "        self.bn4 = nn.BatchNorm1d(10)\n",
    "        self.out = nn.Linear(10, 1)\n",
    "\n",
    "    def forward(self, x):\n",
    "        x = F.relu(self.conv1(x))\n",
    "        x = self.bn1(x)\n",
    "        x = self.pool1(x)\n",
    "        x = F.relu(self.conv2(x))\n",
    "        x = self.bn2(x)\n",
    "        x = self.flatten(x)\n",
    "        x = F.relu(self.fc1(x))\n",
    "        x = self.bn3(x)\n",
    "        x = F.relu(self.fc2(x))\n",
    "        x = self.bn4(x)\n",
    "        x = self.out(x)\n",
    "        return x.squeeze()\n",
    "\n",
    "\n"
   ]
  }
 ],
 "metadata": {
  "kernelspec": {
   "display_name": "Python 3 (ipykernel)",
   "language": "python",
   "name": "python3"
  },
  "language_info": {
   "codemirror_mode": {
    "name": "ipython",
    "version": 3
   },
   "file_extension": ".py",
   "mimetype": "text/x-python",
   "name": "python",
   "nbconvert_exporter": "python",
   "pygments_lexer": "ipython3",
   "version": "3.9.15"
  }
 },
 "nbformat": 4,
 "nbformat_minor": 5
}
