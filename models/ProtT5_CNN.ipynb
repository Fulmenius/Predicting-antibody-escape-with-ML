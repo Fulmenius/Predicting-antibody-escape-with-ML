{
  "cells": [
    {
      "cell_type": "markdown",
      "metadata": {
        "id": "view-in-github",
        "colab_type": "text"
      },
      "source": [
        "<a href=\"https://colab.research.google.com/github/Fulmenius/Predicting-antibody-escape-with-ML/blob/main_script/models/ProtT5_CNN.ipynb\" target=\"_parent\"><img src=\"https://colab.research.google.com/assets/colab-badge.svg\" alt=\"Open In Colab\"/></a>"
      ]
    },
    {
      "cell_type": "code",
      "execution_count": null,
      "id": "1187ef7b",
      "metadata": {
        "colab": {
          "base_uri": "https://localhost:8080/"
        },
        "id": "1187ef7b",
        "outputId": "38a04266-922f-4761-a5a8-6bca13f208f7"
      },
      "outputs": [
        {
          "output_type": "stream",
          "name": "stdout",
          "text": [
            "ProtT5_CNN is loaded\n"
          ]
        }
      ],
      "source": [
        "print(\"ProtT5_CNN is loaded\")"
      ]
    },
    {
      "cell_type": "code",
      "source": [
        "import numpy as np\n",
        "import torch\n",
        "from torch import nn\n",
        "from torch.nn import functional as F\n",
        "\n",
        "class ConvNet1D(nn.Module):\n",
        "    def __init__(self):\n",
        "        super().__init__()\n",
        "\n",
        "        self.conv1 = nn.Conv1d(in_channels=1, out_channels=64, kernel_size=5)  # output will be 1020x64\n",
        "        self.bn1 = nn.BatchNorm1d(64)\n",
        "        self.pool1 = nn.MaxPool1d(kernel_size=2)  # output will be 510x64\n",
        "        self.conv2 = nn.Conv1d(in_channels=64, out_channels=128, kernel_size=5)  # output will be 506x128\n",
        "        self.bn2 = nn.BatchNorm1d(128)\n",
        "        self.pool2 = nn.MaxPool1d(kernel_size=2)  # output will be 253x128\n",
        "\n",
        "        self.fc1 = nn.Linear(253*128, 256)\n",
        "        self.bn3 = nn.BatchNorm1d(256)\n",
        "        self.fc2 = nn.Linear(256, 128)\n",
        "        self.bn4 = nn.BatchNorm1d(128)\n",
        "        self.out = nn.Linear(128, 1)\n",
        "\n",
        "    def forward(self, x):\n",
        "        x = x.unsqueeze(1)  # add a channel dimension\n",
        "        x = F.relu(self.conv1(x))\n",
        "        x = self.bn1(x)\n",
        "        x = self.pool1(x)\n",
        "        x = F.relu(self.conv2(x))\n",
        "        x = self.bn2(x)\n",
        "        x = self.pool2(x)\n",
        "        x = x.view(x.size(0), -1)  # flatten the tensor\n",
        "        x = F.relu(self.fc1(x))\n",
        "        x = self.bn3(x)\n",
        "        x = F.relu(self.fc2(x))\n",
        "        x = self.bn4(x)\n",
        "        x = self.out(x)\n",
        "        return x.squeeze()\n"
      ],
      "metadata": {
        "id": "FKlJ5Q_HFt6v"
      },
      "id": "FKlJ5Q_HFt6v",
      "execution_count": null,
      "outputs": []
    }
  ],
  "metadata": {
    "kernelspec": {
      "display_name": "Python 3 (ipykernel)",
      "language": "python",
      "name": "python3"
    },
    "language_info": {
      "codemirror_mode": {
        "name": "ipython",
        "version": 3
      },
      "file_extension": ".py",
      "mimetype": "text/x-python",
      "name": "python",
      "nbconvert_exporter": "python",
      "pygments_lexer": "ipython3",
      "version": "3.9.15"
    },
    "colab": {
      "provenance": [],
      "include_colab_link": true
    }
  },
  "nbformat": 4,
  "nbformat_minor": 5
}