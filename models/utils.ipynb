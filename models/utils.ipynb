{
  "cells": [
    {
      "cell_type": "markdown",
      "metadata": {
        "id": "view-in-github",
        "colab_type": "text"
      },
      "source": [
        "<a href=\"https://colab.research.google.com/github/Fulmenius/Predicting-antibody-escape-with-ML/blob/main_script/models/utils.ipynb\" target=\"_parent\"><img src=\"https://colab.research.google.com/assets/colab-badge.svg\" alt=\"Open In Colab\"/></a>"
      ]
    },
    {
      "cell_type": "code",
      "execution_count": null,
      "id": "59d05a63",
      "metadata": {
        "colab": {
          "base_uri": "https://localhost:8080/"
        },
        "id": "59d05a63",
        "outputId": "b70bea2a-b478-4b43-9eb6-39051cff6fe6"
      },
      "outputs": [
        {
          "output_type": "stream",
          "name": "stdout",
          "text": [
            "utils are loaded\n"
          ]
        }
      ],
      "source": [
        "print('utils are loaded')"
      ]
    },
    {
      "cell_type": "code",
      "execution_count": null,
      "id": "2cf93bd2",
      "metadata": {
        "id": "2cf93bd2"
      },
      "outputs": [],
      "source": [
        "import pandas as pd\n",
        "\n",
        "def vocabulary(series):\n",
        "    \"\"\"\n",
        "    This function creates a vocabulary of letters in the dataset \n",
        "    \"\"\"\n",
        "    return list(set(series.str.cat()))"
      ]
    },
    {
      "cell_type": "code",
      "execution_count": null,
      "id": "1bfbf189",
      "metadata": {
        "id": "1bfbf189"
      },
      "outputs": [],
      "source": [
        "def one_hot_encode(series, aa_vocab):\n",
        "    \"\"\"\n",
        "    One-hot encoding. No padding is needed, because all strings have a length of 24\n",
        "    \"\"\"\n",
        "    # Create a mapping of aa to indices\n",
        "    aa_to_idx = {aa: idx for idx, aa in enumerate(aa_vocab)}\n",
        "    vocab_size = len(aa_vocab)\n",
        "\n",
        "    # One-hot encode the sequences\n",
        "    encoded_seqs = []\n",
        "    for seq in series:\n",
        "        encoded_seq = np.zeros((len(seq), vocab_size))\n",
        "        for i, aa in enumerate(seq):\n",
        "            encoded_seq[i, aa_to_idx[aa]] = 1\n",
        "        encoded_seqs.append(encoded_seq)\n",
        "    \n",
        "    return encoded_seqs"
      ]
    },
    {
      "cell_type": "code",
      "execution_count": null,
      "id": "426749dd",
      "metadata": {
        "id": "426749dd"
      },
      "outputs": [],
      "source": [
        "import torch\n",
        "from torch.utils.data import Dataset, DataLoader\n",
        "\n",
        "class SequenceDataset(Dataset):\n",
        "    \"\"\"\n",
        "    PyTorch Dataset class for the sequence data\n",
        "    \"\"\"\n",
        "    def __init__(self, sequences, labels):\n",
        "        self.sequences = sequences\n",
        "        self.labels = labels\n",
        "\n",
        "    def __len__(self):\n",
        "        return len(self.labels)\n",
        "\n",
        "    def __getitem__(self, idx):\n",
        "        sequence = self.sequences[idx]\n",
        "        sequence = torch.unsqueeze(sequence, 0)\n",
        "        label = self.labels[idx]\n",
        "        return sequence, label\n",
        "\n",
        "def prepare_data(dataset, sample_size, batch_size=64):\n",
        "    \"\"\"\n",
        "    This function prepares a PyTorch DataLoader from a pandas DataFrame.\n",
        "    \"\"\"\n",
        "    # Randomly sample from the dataset\n",
        "    dataset_sample = dataset.sample(n=sample_size)\n",
        "    \n",
        "    # Extract sequences and labels\n",
        "    sequences = dataset_sample['junction_aa']\n",
        "    labels = dataset_sample['Label']\n",
        "\n",
        "    # Create vocabulary\n",
        "    aa_vocab = vocabulary(sequences)\n",
        "\n",
        "    # One-hot encode the sequences\n",
        "    sequences = one_hot_encode(sequences, aa_vocab)\n",
        "\n",
        "    # Convert to PyTorch tensors\n",
        "    sequences = torch.tensor(sequences).float() # Changed this line\n",
        "    labels = torch.tensor(labels.values).float()\n",
        "\n",
        "    # Create PyTorch Dataset\n",
        "    data = SequenceDataset(sequences, labels)\n",
        "\n",
        "    # Create PyTorch DataLoader\n",
        "    loader = DataLoader(data, batch_size=batch_size, shuffle=True)\n",
        "\n",
        "    return loader"
      ]
    },
    {
      "cell_type": "code",
      "source": [
        "class EmbeddingDataset(Dataset):\n",
        "    \"\"\"\n",
        "    PyTorch Dataset class for embedded sequence data\n",
        "    \"\"\"\n",
        "    def __init__(self, embeddings, labels):\n",
        "        self.embeddings = embeddings\n",
        "        self.labels = labels\n",
        "\n",
        "    def __len__(self):\n",
        "        return len(self.labels)\n",
        "\n",
        "    def __getitem__(self, idx):\n",
        "        embedding = self.embeddings[idx]\n",
        "        label = self.labels[idx]\n",
        "        return embedding, label\n",
        "\n",
        "from ast import literal_eval\n",
        "import re\n",
        "import numpy as np\n",
        "\n",
        "def str_to_array(s):\n",
        "    # Remove brackets and split by whitespace\n",
        "    s = s[1:-1]\n",
        "    str_nums = re.split('\\s+', s)\n",
        "    # Convert strings to floats and return as np.array\n",
        "    return np.array([float(num.rstrip(',')) for num in str_nums if num])\n",
        "\n",
        "def prepare_t5_data(embedded_dataset, sample_size, batch_size=64):\n",
        "    \"\"\"\n",
        "    This function prepares a PyTorch DataLoader from a pandas DataFrame with T5 embeddings \n",
        "    \"\"\"\n",
        "    # Randomly sample from the dataset\n",
        "    dataset_sample = embedded_dataset.sample(n=sample_size)\n",
        "\n",
        "    # Extract embeddings and labels\n",
        "    embeddings = dataset_sample['embeddings']\n",
        "    labels = dataset_sample['Labels']\n",
        "\n",
        "    # If the embeddings are stored as strings, convert them to lists of floats\n",
        "    if isinstance(embeddings.iloc[0], str):\n",
        "        embeddings = embeddings.apply(str_to_array)\n",
        "\n",
        "    # Convert to PyTroch tensors\n",
        "    embeddings = torch.tensor(np.stack(embeddings.values)).float()\n",
        "    labels = torch.tensor(labels.values).float()\n",
        "\n",
        "    # Create PyTorch Dataset\n",
        "    data = EmbeddingDataset(embeddings, labels)\n",
        "\n",
        "    # Create PyTorch DataLoader\n",
        "    loader = DataLoader(data, batch_size=batch_size, shuffle=True)\n",
        "\n",
        "    return loader"
      ],
      "metadata": {
        "id": "5F74fvLtIxps"
      },
      "id": "5F74fvLtIxps",
      "execution_count": null,
      "outputs": []
    },
    {
      "cell_type": "code",
      "execution_count": null,
      "id": "9890831c",
      "metadata": {
        "id": "9890831c"
      },
      "outputs": [],
      "source": [
        "from sklearn.metrics import roc_auc_score\n",
        "\n",
        "def calculate_roc_auc(model, loader):\n",
        "    model.eval()\n",
        "    y_true = []\n",
        "    y_score = []\n",
        "    with torch.no_grad():\n",
        "        for inputs, labels in loader:\n",
        "            inputs, labels = inputs.to(device), labels.to(device)\n",
        "            outputs = model(inputs)\n",
        "            y_true.extend(labels.tolist())\n",
        "            y_score.extend(outputs.tolist())\n",
        "    return roc_auc_score(y_true, y_score)"
      ]
    }
  ],
  "metadata": {
    "kernelspec": {
      "display_name": "Python 3 (ipykernel)",
      "language": "python",
      "name": "python3"
    },
    "language_info": {
      "codemirror_mode": {
        "name": "ipython",
        "version": 3
      },
      "file_extension": ".py",
      "mimetype": "text/x-python",
      "name": "python",
      "nbconvert_exporter": "python",
      "pygments_lexer": "ipython3",
      "version": "3.9.15"
    },
    "colab": {
      "provenance": [],
      "include_colab_link": true
    }
  },
  "nbformat": 4,
  "nbformat_minor": 5
}