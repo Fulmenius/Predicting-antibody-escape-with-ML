{
  "nbformat": 4,
  "nbformat_minor": 0,
  "metadata": {
    "colab": {
      "provenance": [],
      "include_colab_link": true
    },
    "kernelspec": {
      "name": "python3",
      "display_name": "Python 3"
    },
    "language_info": {
      "name": "python"
    },
    "accelerator": "GPU",
    "gpuClass": "standard"
  },
  "cells": [
    {
      "cell_type": "markdown",
      "metadata": {
        "id": "view-in-github",
        "colab_type": "text"
      },
      "source": [
        "<a href=\"https://colab.research.google.com/github/Fulmenius/Predicting-antibody-escape-with-ML/blob/main/minimal_working_example_ProtT5.ipynb\" target=\"_parent\"><img src=\"https://colab.research.google.com/assets/colab-badge.svg\" alt=\"Open In Colab\"/></a>"
      ]
    },
    {
      "cell_type": "code",
      "execution_count": 2,
      "metadata": {
        "id": "-sPZTHfp1hIh",
        "outputId": "30846786-21fd-4e41-f8ec-ed4731f60793",
        "colab": {
          "base_uri": "https://localhost:8080/"
        }
      },
      "outputs": [
        {
          "output_type": "stream",
          "name": "stdout",
          "text": [
            "Looking in indexes: https://pypi.org/simple, https://us-python.pkg.dev/colab-wheels/public/simple/, https://download.pytorch.org/whl/cu116\n",
            "Requirement already satisfied: torch in /usr/local/lib/python3.9/dist-packages (2.0.0+cu118)\n",
            "Requirement already satisfied: torchvision in /usr/local/lib/python3.9/dist-packages (0.15.1+cu118)\n",
            "Requirement already satisfied: torchaudio in /usr/local/lib/python3.9/dist-packages (2.0.1+cu118)\n",
            "Requirement already satisfied: transformers in /usr/local/lib/python3.9/dist-packages (4.28.1)\n",
            "Requirement already satisfied: sentencepiece in /usr/local/lib/python3.9/dist-packages (0.1.98)\n",
            "Requirement already satisfied: accelerate in /usr/local/lib/python3.9/dist-packages (0.18.0)\n",
            "Requirement already satisfied: networkx in /usr/local/lib/python3.9/dist-packages (from torch) (3.1)\n",
            "Requirement already satisfied: sympy in /usr/local/lib/python3.9/dist-packages (from torch) (1.11.1)\n",
            "Requirement already satisfied: filelock in /usr/local/lib/python3.9/dist-packages (from torch) (3.12.0)\n",
            "Requirement already satisfied: jinja2 in /usr/local/lib/python3.9/dist-packages (from torch) (3.1.2)\n",
            "Requirement already satisfied: triton==2.0.0 in /usr/local/lib/python3.9/dist-packages (from torch) (2.0.0)\n",
            "Requirement already satisfied: typing-extensions in /usr/local/lib/python3.9/dist-packages (from torch) (4.5.0)\n",
            "Requirement already satisfied: cmake in /usr/local/lib/python3.9/dist-packages (from triton==2.0.0->torch) (3.25.2)\n",
            "Requirement already satisfied: lit in /usr/local/lib/python3.9/dist-packages (from triton==2.0.0->torch) (16.0.2)\n",
            "Requirement already satisfied: requests in /usr/local/lib/python3.9/dist-packages (from torchvision) (2.27.1)\n",
            "Requirement already satisfied: numpy in /usr/local/lib/python3.9/dist-packages (from torchvision) (1.22.4)\n",
            "Requirement already satisfied: pillow!=8.3.*,>=5.3.0 in /usr/local/lib/python3.9/dist-packages (from torchvision) (8.4.0)\n",
            "Requirement already satisfied: huggingface-hub<1.0,>=0.11.0 in /usr/local/lib/python3.9/dist-packages (from transformers) (0.14.1)\n",
            "Requirement already satisfied: tokenizers!=0.11.3,<0.14,>=0.11.1 in /usr/local/lib/python3.9/dist-packages (from transformers) (0.13.3)\n",
            "Requirement already satisfied: pyyaml>=5.1 in /usr/local/lib/python3.9/dist-packages (from transformers) (6.0)\n",
            "Requirement already satisfied: tqdm>=4.27 in /usr/local/lib/python3.9/dist-packages (from transformers) (4.65.0)\n",
            "Requirement already satisfied: packaging>=20.0 in /usr/local/lib/python3.9/dist-packages (from transformers) (23.1)\n",
            "Requirement already satisfied: regex!=2019.12.17 in /usr/local/lib/python3.9/dist-packages (from transformers) (2022.10.31)\n",
            "Requirement already satisfied: psutil in /usr/local/lib/python3.9/dist-packages (from accelerate) (5.9.5)\n",
            "Requirement already satisfied: fsspec in /usr/local/lib/python3.9/dist-packages (from huggingface-hub<1.0,>=0.11.0->transformers) (2023.4.0)\n",
            "Requirement already satisfied: MarkupSafe>=2.0 in /usr/local/lib/python3.9/dist-packages (from jinja2->torch) (2.1.2)\n",
            "Requirement already satisfied: urllib3<1.27,>=1.21.1 in /usr/local/lib/python3.9/dist-packages (from requests->torchvision) (1.26.15)\n",
            "Requirement already satisfied: certifi>=2017.4.17 in /usr/local/lib/python3.9/dist-packages (from requests->torchvision) (2022.12.7)\n",
            "Requirement already satisfied: charset-normalizer~=2.0.0 in /usr/local/lib/python3.9/dist-packages (from requests->torchvision) (2.0.12)\n",
            "Requirement already satisfied: idna<4,>=2.5 in /usr/local/lib/python3.9/dist-packages (from requests->torchvision) (3.4)\n",
            "Requirement already satisfied: mpmath>=0.19 in /usr/local/lib/python3.9/dist-packages (from sympy->torch) (1.3.0)\n"
          ]
        }
      ],
      "source": [
        "#@title Install dependencies. { display-mode: \"form\" }\n",
        "!pip3 install torch torchvision torchaudio transformers sentencepiece accelerate --extra-index-url https://download.pytorch.org/whl/cu116"
      ]
    },
    {
      "cell_type": "code",
      "source": [
        "#@title Import dependencies. { display-mode: \"form\" }\n",
        "# Load ProtT5 in half-precision (more specifically: the encoder-part of ProtT5-XL-U50) \n",
        "from transformers import T5Tokenizer, T5EncoderModel\n",
        "import torch\n",
        "import re\n",
        "device = torch.device('cuda:0' if torch.cuda.is_available() else 'cpu')\n",
        "print(\"Using device: {}\".format(device))"
      ],
      "metadata": {
        "colab": {
          "base_uri": "https://localhost:8080/"
        },
        "id": "KPQI4tT41rbn",
        "outputId": "3fc60be4-9504-4677-ff73-fa078069f2ac"
      },
      "execution_count": 3,
      "outputs": [
        {
          "output_type": "stream",
          "name": "stdout",
          "text": [
            "Using device: cuda:0\n"
          ]
        }
      ]
    },
    {
      "cell_type": "code",
      "source": [
        "#@title Load encoder-part of ProtT5 in half-precision. { display-mode: \"form\" }\n",
        "# Load ProtT5 in half-precision (more specifically: the encoder-part of ProtT5-XL-U50 in half-precision) \n",
        "transformer_link = \"Rostlab/prot_t5_xl_half_uniref50-enc\"\n",
        "print(\"Loading: {}\".format(transformer_link))\n",
        "model = T5EncoderModel.from_pretrained(transformer_link)\n",
        "model.full() if device=='cpu' else model.half() # only cast to full-precision if no GPU is available\n",
        "model = model.to(device)\n",
        "model = model.eval()\n",
        "tokenizer = T5Tokenizer.from_pretrained(transformer_link, do_lower_case=False )"
      ],
      "metadata": {
        "colab": {
          "base_uri": "https://localhost:8080/"
        },
        "id": "gd2WVxKk4nSb",
        "outputId": "2ae4cd3e-2e9a-4acc-a2a8-981afb9a3ecb"
      },
      "execution_count": 4,
      "outputs": [
        {
          "output_type": "stream",
          "name": "stdout",
          "text": [
            "Loading: Rostlab/prot_t5_xl_half_uniref50-enc\n"
          ]
        }
      ]
    },
    {
      "cell_type": "code",
      "source": [
        "sequence_examples = [\"PRTEINO\", \"SEQWENCE\"]\n",
        "# this will replace all rare/ambiguous amino acids by X and introduce white-space between all amino acids\n",
        "sequence_examples = [\" \".join(list(re.sub(r\"[UZOB]\", \"X\", sequence))) for sequence in sequence_examples]\n",
        "\n",
        "# tokenize sequences and pad up to the longest sequence in the batch\n",
        "ids = tokenizer.batch_encode_plus(sequence_examples, add_special_tokens=True, padding=\"longest\")\n",
        "input_ids = torch.tensor(ids['input_ids']).to(device)\n",
        "attention_mask = torch.tensor(ids['attention_mask']).to(device)\n",
        "\n",
        "# generate embeddings\n",
        "with torch.no_grad():\n",
        "    embedding_repr = model(input_ids=input_ids,attention_mask=attention_mask)\n",
        "\n",
        "# extract embeddings for the first ([0,:]) sequence in the batch while removing padded & special tokens ([0,:7]) \n",
        "emb_0 = embedding_repr.last_hidden_state[0,:7] # shape (7 x 1024)\n",
        "print(f\"Shape of per-residue embedding of first sequences: {emb_0.shape}\")\n",
        "# do the same for the second ([1,:]) sequence in the batch while taking into account different sequence lengths ([1,:8])\n",
        "emb_1 = embedding_repr.last_hidden_state[1,:8] # shape (8 x 1024)\n",
        "\n",
        "# if you want to derive a single representation (per-protein embedding) for the whole protein\n",
        "emb_0_per_protein = emb_0.mean(dim=0) # shape (1024)\n",
        "\n",
        "print(f\"Shape of per-protein embedding of first sequences: {emb_0_per_protein.shape}\")"
      ],
      "metadata": {
        "colab": {
          "base_uri": "https://localhost:8080/"
        },
        "id": "LFfgawZH4AfP",
        "outputId": "dd4cd036-c2ff-47b7-91dd-629623c5f99a"
      },
      "execution_count": 5,
      "outputs": [
        {
          "output_type": "stream",
          "name": "stdout",
          "text": [
            "Shape of per-residue embedding of first sequences: torch.Size([7, 1024])\n",
            "Shape of per-protein embedding of first sequences: torch.Size([1024])\n"
          ]
        }
      ]
    },
    {
      "cell_type": "code",
      "source": [
        "import pandas as pd\n",
        "\n",
        "ACE2_test = pd.read_csv(\"ACE2_test_data.csv\")\n",
        "ACE2_train = pd.read_csv(\"ACE2_train_data.csv\")"
      ],
      "metadata": {
        "id": "kCGIo62HHKuX"
      },
      "execution_count": 6,
      "outputs": []
    },
    {
      "cell_type": "code",
      "source": [
        "sum([len(re.findall(r\"[UZOB]\", ACE2_test[\"junction_aa\"][i])) > 0 for i in range(10000)]) # Check that there is no non-standard AAs in \"junction_aa\""
      ],
      "metadata": {
        "id": "E2tMl_7TINQo",
        "outputId": "f03acb67-3168-4c97-c750-d3fd74449c2f",
        "colab": {
          "base_uri": "https://localhost:8080/"
        }
      },
      "execution_count": 7,
      "outputs": [
        {
          "output_type": "execute_result",
          "data": {
            "text/plain": [
              "0"
            ]
          },
          "metadata": {},
          "execution_count": 7
        }
      ]
    },
    {
      "cell_type": "code",
      "source": [
        "ACE2_train.info"
      ],
      "metadata": {
        "id": "rQLysLRNscgn",
        "outputId": "bbd4c702-b925-416e-8288-483f29d22c26",
        "colab": {
          "base_uri": "https://localhost:8080/"
        }
      },
      "execution_count": 8,
      "outputs": [
        {
          "output_type": "execute_result",
          "data": {
            "text/plain": [
              "<bound method DataFrame.info of         Unnamed: 0               junction_aa  consensus_count  Label  Distance\n",
              "0           287261  KNAGFNCYNPLETYGFWRTGGVDW                1      1         9\n",
              "1           467439  KNEQFNCYGPINAYGFQRTGGEDW                1      0        10\n",
              "2           414422  KNQKFNCYVPLFHYGFWPTVGVGF                1      1         8\n",
              "3           103144  KNQGFNCYNPLVNYGFYRTNGRSF                1      1         9\n",
              "4           478954  KNRGFNCYKPLPGYGFQRTDGINW                2      0         9\n",
              "...            ...                       ...              ...    ...       ...\n",
              "406881       16530  KNKGFNCYIPIEDYGFQRTSGRSY                2      0         9\n",
              "406882       48280  KNEGFNCYNPITEYGFWTTSGLDW                2      1        10\n",
              "406883      420449  KNGKFNCYHPIVRYGFHPTVGRGY                2      1         9\n",
              "406884      173734  KNGQFNCYIPIAGYGFLPTLGVSY                1      0         9\n",
              "406885      554432  KNRGFNCYTPIFKYGFFTTWGRNY                1      0        10\n",
              "\n",
              "[406886 rows x 5 columns]>"
            ]
          },
          "metadata": {},
          "execution_count": 8
        }
      ]
    },
    {
      "cell_type": "code",
      "source": [
        "\"\"\"\n",
        "Preprocessing data as recommended\n",
        "\"\"\"\n",
        "ACE2_test_prot = [\" \".join(list(re.sub(r\"[UZOB]\", \"X\", sequence))) for sequence in ACE2_test[\"junction_aa\"]]\n",
        "ACE2_train_prot = [\" \".join(list(re.sub(r\"[UZOB]\", \"X\", sequence))) for sequence in ACE2_train[\"junction_aa\"]]"
      ],
      "metadata": {
        "id": "QZi9RjL0MrgL"
      },
      "execution_count": 9,
      "outputs": []
    },
    {
      "cell_type": "code",
      "source": [
        "from tqdm import tqdm\n",
        "\n",
        "def batch_process_sequences(model, tokenizer, sequences, batch_size):\n",
        "    embeddings = []\n",
        "    \n",
        "    # Wrap the range function with tqdm to create a progress bar\n",
        "    for i in tqdm(range(0, len(sequences), batch_size), desc=\"Processing batches\"):\n",
        "        batch_sequences = sequences[i:i + batch_size]\n",
        "        ids = tokenizer.batch_encode_plus(batch_sequences, add_special_tokens=True, padding=\"longest\")\n",
        "        input_ids = torch.tensor(ids['input_ids']).to(device)\n",
        "        attention_mask = torch.tensor(ids['attention_mask']).to(device)\n",
        "\n",
        "        with torch.no_grad():\n",
        "            batch_embeddings_repr = model(input_ids=input_ids, attention_mask=attention_mask)\n",
        "            batch_embeddings_repr = batch_embeddings_repr.last_hidden_state\n",
        "        \n",
        "        embeddings.append(batch_embeddings_repr.cpu())\n",
        "\n",
        "    embeddings = torch.cat(embeddings, dim=0)\n",
        "    return embeddings\n",
        "\n",
        "# Set the batch_size to a smaller number, e.g., 8\n",
        "batch_size = 20\n",
        "\n",
        "embeddings_test = batch_process_sequences(model, tokenizer, ACE2_test_prot[0:1000], batch_size)\n",
        "embeddings_train = batch_process_sequences(model, tokenizer, ACE2_train_prot[0:10000], batch_size)"
      ],
      "metadata": {
        "id": "lScnFbZ_KgZE",
        "outputId": "afd0175a-6248-428b-ad1c-a9c29fc3b119",
        "colab": {
          "base_uri": "https://localhost:8080/"
        }
      },
      "execution_count": 10,
      "outputs": [
        {
          "output_type": "stream",
          "name": "stderr",
          "text": [
            "Processing batches: 100%|██████████| 50/50 [00:05<00:00,  9.45it/s]\n",
            "Processing batches: 100%|██████████| 500/500 [00:44<00:00, 11.25it/s]\n"
          ]
        }
      ]
    },
    {
      "cell_type": "code",
      "source": [
        "embeddings_test.shape\n",
        "\n",
        "labels_test = torch.from_numpy(ACE2_test[\"Label\"].iloc[0:1000].values)\n",
        "embeddings_mean_test = torch.mean(embeddings_test, dim=1)\n",
        "labels_train = torch.from_numpy(ACE2_train[\"Label\"].iloc[0:10000].values)\n",
        "embeddings_mean_train = torch.mean(embeddings_test, dim=1)"
      ],
      "metadata": {
        "id": "fYeTbBN3Vyfa"
      },
      "execution_count": 15,
      "outputs": []
    },
    {
      "cell_type": "code",
      "source": [
        "print(labels_test.shape, embeddings_mean_test.shape)"
      ],
      "metadata": {
        "id": "mSrE62PfwZno",
        "outputId": "8b3add5b-0adb-4064-9d6f-2a5f67dd7ce8",
        "colab": {
          "base_uri": "https://localhost:8080/"
        }
      },
      "execution_count": 16,
      "outputs": [
        {
          "output_type": "stream",
          "name": "stdout",
          "text": [
            "torch.Size([1000]) torch.Size([1000, 1024])\n"
          ]
        }
      ]
    },
    {
      "cell_type": "code",
      "source": [
        "from torch.utils.data import Dataset, DataLoader\n",
        "\n",
        "class ACE2_Dataset(Dataset):\n",
        "    def __init__(self, X, y):\n",
        "      self.X = X\n",
        "      self.y = y\n",
        "\n",
        "    def __len__(self):\n",
        "      return len(self.y)\n",
        "\n",
        "    def __getitem__(self, idx):\n",
        "      return self.X[idx], self.y[idx]\n"
      ],
      "metadata": {
        "id": "9rsDwDa9U9DU"
      },
      "execution_count": 18,
      "outputs": []
    },
    {
      "cell_type": "code",
      "source": [
        "train_mean_dataset = ACE2_Dataset(embeddings_mean_train, labels_train)\n",
        "test_mean_dataset = ACE2_Dataset(embeddings_mean_test, labels_test)\n",
        "\n",
        "train_dataloader = DataLoader(train_mean_dataset, batch_size=64, shuffle=True)\n",
        "test_dataloader = DataLoader(test_mean_dataset, batch_size=64, shuffle=False)"
      ],
      "metadata": {
        "id": "NY1GZUwqhkSQ"
      },
      "execution_count": 20,
      "outputs": []
    },
    {
      "cell_type": "code",
      "source": [
        "from torch import nn\n",
        "\"\"\"\n",
        "Linear classifier based on 1024-dimensional representation of the whole protein\n",
        "\"\"\"\n",
        "ACE2_Binding_classifier = nn.Sequential(\n",
        "    nn.Linear(1024, 512),\n",
        "    nn.ReLU(),\n",
        "    nn.Linear(512, 512),\n",
        "    nn.ReLU(),\n",
        "    nn.Linear(512, 128),\n",
        "    nn.ReLU(),\n",
        "    nn.Linear(128, 32),\n",
        "    nn.ReLU(),\n",
        "    nn.Linear(32, 1)\n",
        ")"
      ],
      "metadata": {
        "id": "ZIaewmIrh3AX"
      },
      "execution_count": 21,
      "outputs": []
    },
    {
      "cell_type": "code",
      "source": [
        "def train_model(model, num_epochs):\n",
        "  "
      ],
      "metadata": {
        "id": "jw6fEu8bw-Lg"
      },
      "execution_count": null,
      "outputs": []
    },
    {
      "cell_type": "code",
      "source": [
        "\"\"\"\n",
        "LSTM classifier based on 25x1024-embedding of protein sequence\n",
        "\"\"\"\n"
      ],
      "metadata": {
        "id": "bu3KA4vrr0Qj"
      },
      "execution_count": null,
      "outputs": []
    },
    {
      "cell_type": "code",
      "source": [],
      "metadata": {
        "id": "Py2MDKJCnol7"
      },
      "execution_count": null,
      "outputs": []
    }
  ]
}